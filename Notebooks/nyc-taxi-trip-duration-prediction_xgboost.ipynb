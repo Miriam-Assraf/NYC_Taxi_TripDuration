{
 "cells": [
  {
   "cell_type": "markdown",
   "metadata": {
    "id": "nEhRA_AX9gsQ"
   },
   "source": [
    "# NYC Taxi Trip Duration Prediction\n",
    "***\n",
    "**Elior Shriki** 313586281\n",
    "\n",
    "**Aviv Shabtay** 313583619\n",
    "\n",
    "**Miriam Assraf** 200059939\n",
    "\n",
    "<img src='https://i.imgur.com/GNbWoOk.jpg' align=\"left\"/>"
   ]
  },
  {
   "cell_type": "markdown",
   "metadata": {
    "id": "kN7P3FXs9gsW"
   },
   "source": [
    "# Research overview\n",
    "* Our goal is to find a model to predict the trip time duration of taxi trips in New York City.\n",
    "* We used the dataset from the competition: `2016 NYC Yellow Cab trip record data`.\n",
    "* We followed of work of other researchers who wrote the article: `Travel Time Prediction using Tree-Based Ensembles` which was about predicting similar problem (Time travel or Taxi).\n",
    "\n",
    "![taxi](https://user-images.githubusercontent.com/20494368/103377004-cdc36400-4ae6-11eb-862e-c017e77d91dc.png)"
   ]
  },
  {
   "cell_type": "markdown",
   "metadata": {
    "id": "cen5nal-9gsW"
   },
   "source": [
    "### Motivation\n",
    "Predicting the Trip time duration could help in: \n",
    "* Planning ahead tourist trips\n",
    "* Increase customer experience and satisfaction\n",
    "* Improve transportation services such as: Uber or Lyft\n",
    "* Decreasing the load in the roads and more !\n",
    "\n",
    "![uber_lyft_customer](https://user-images.githubusercontent.com/20494368/103377703-cb620980-4ae8-11eb-9e0b-e1fad13f6a38.png)"
   ]
  },
  {
   "cell_type": "markdown",
   "metadata": {
    "id": "l88vnoXj9gsW"
   },
   "source": [
    "### Kaggle competition overview\n",
    "* When the competition was active the reward was about 30,000$ for winning.\n",
    "* The competition forces researchers to use RMSLE error for the validation the model.\n",
    "\n",
    "![coins](https://user-images.githubusercontent.com/20494368/103377043-f2b7d700-4ae6-11eb-890b-ee8f26919555.png)"
   ]
  },
  {
   "cell_type": "markdown",
   "metadata": {
    "id": "LIyoeO8N9gsW"
   },
   "source": [
    "### Main methodology\n",
    "\n",
    "1. Data exploration\n",
    "2. Feature engineering\n",
    "3. Data manipulation - encoding, cleaning, clustring, etc.\n",
    "4. Train the models - XgBoost, LightGBM\n",
    "5. Pick the best model\n",
    "\n",
    "![method_chart](https://user-images.githubusercontent.com/20494368/103378147-09abf880-4aea-11eb-9b95-de5dbcfc82ab.png)\n"
   ]
  },
  {
   "cell_type": "markdown",
   "metadata": {
    "id": "4rT_98yg9gsX"
   },
   "source": [
    "### Notes from the artical:\n",
    "* Weather could affect on the traffic.\n",
    "* Routing data could be affected by rush hours.\n",
    "* Predictions could be tested for long-term predictions and for a short-term predictions.\n",
    "* Most of the mcahine learning models nowdays using SVM, KNN, Neural networks and not Tree-Based-Learning.\n",
    "* Tree based learning considered as robust method that should be tested to solve this problem and discover new achivments.\n",
    "\n",
    "![trees](https://user-images.githubusercontent.com/20494368/103399658-bae27b00-4b4a-11eb-97d0-472eca7406cf.png)"
   ]
  },
  {
   "cell_type": "markdown",
   "metadata": {
    "id": "GoZAAb759gsX"
   },
   "source": [
    "### Robust the research\n",
    "* We tried to use Colab for the analysis, which was a failure.\n",
    "* We migrated the analysis to 3 Server using Amazon AWS Services.\n",
    "* Each Service deploy JupyterLab service which have trained different model.\n",
    "* Latter we summary the results to one notebook.\n",
    "\n",
    "![aws](https://user-images.githubusercontent.com/20494368/103401126-6b06b280-4b50-11eb-94f0-1431c3caa624.png)"
   ]
  },
  {
   "cell_type": "markdown",
   "metadata": {
    "id": "qvrRxLPU9gsX"
   },
   "source": [
    "<a id=path></a>\n",
    "## Set Local Path\n",
    "We need to set the local path to read and write to the file."
   ]
  },
  {
   "cell_type": "code",
   "execution_count": 1,
   "metadata": {
    "colab": {
     "base_uri": "https://localhost:8080/"
    },
    "executionInfo": {
     "elapsed": 1035,
     "status": "ok",
     "timestamp": 1610465582069,
     "user": {
      "displayName": "Elior Shriki",
      "photoUrl": "",
      "userId": "17074314425706635935"
     },
     "user_tz": -120
    },
    "id": "e1QqPc5CD5Sw",
    "outputId": "5ecb18b2-1571-4b88-afc2-b84940a7e6e0"
   },
   "outputs": [
    {
     "name": "stdout",
     "output_type": "stream",
     "text": [
      "Not running on CoLab - Continue\n"
     ]
    }
   ],
   "source": [
    "if 'google.colab' in str(get_ipython()):\n",
    "  print('Running on CoLab - Remove sample data')\n",
    "  !rm -r sample_data\n",
    "else:\n",
    "  print('Not running on CoLab - Continue')"
   ]
  },
  {
   "cell_type": "markdown",
   "metadata": {
    "id": "gRo5__bUEXtP"
   },
   "source": [
    "# Import dataset from Amazon S3 storage"
   ]
  },
  {
   "cell_type": "code",
   "execution_count": 2,
   "metadata": {
    "colab": {
     "base_uri": "https://localhost:8080/"
    },
    "executionInfo": {
     "elapsed": 26657,
     "status": "ok",
     "timestamp": 1610465660451,
     "user": {
      "displayName": "Elior Shriki",
      "photoUrl": "",
      "userId": "17074314425706635935"
     },
     "user_tz": -120
    },
    "id": "WAjlO-7DA6Fn",
    "outputId": "e0ba73f7-03af-4ceb-c0f2-010b1d3f5736"
   },
   "outputs": [
    {
     "name": "stdout",
     "output_type": "stream",
     "text": [
      "--2021-01-12 21:23:56--  https://seminar-ml-2020.s3.amazonaws.com/NYC_DS_After.zip\n",
      "Resolving seminar-ml-2020.s3.amazonaws.com (seminar-ml-2020.s3.amazonaws.com)... 52.217.49.4\n",
      "Connecting to seminar-ml-2020.s3.amazonaws.com (seminar-ml-2020.s3.amazonaws.com)|52.217.49.4|:443... connected.\n",
      "HTTP request sent, awaiting response... 200 OK\n",
      "Length: 177761819 (170M) [application/zip]\n",
      "Saving to: ‘./datasets/NYC_DS_After.zip’\n",
      "\n",
      "NYC_DS_After.zip    100%[===================>] 169.53M  78.8MB/s    in 2.2s    \n",
      "\n",
      "2021-01-12 21:23:58 (78.8 MB/s) - ‘./datasets/NYC_DS_After.zip’ saved [177761819/177761819]\n",
      "\n",
      "Archive:  ./datasets/NYC_DS_After.zip\n",
      "  inflating: ./datasets/train_ds.csv  \n",
      "  inflating: ./datasets/test_ds.csv  \n"
     ]
    }
   ],
   "source": [
    "!wget https://seminar-ml-2020.s3.amazonaws.com/NYC_DS_After.zip -P ./datasets\n",
    "!unzip ./datasets/NYC_DS_After.zip -d ./datasets\n",
    "!rm ./datasets/NYC_DS_After.zip"
   ]
  },
  {
   "cell_type": "markdown",
   "metadata": {
    "id": "_gcf-9W49gsZ"
   },
   "source": [
    "<a id=timer></a>\n",
    "## Set timer"
   ]
  },
  {
   "cell_type": "code",
   "execution_count": 3,
   "metadata": {
    "id": "e4KG7Hn89gsZ"
   },
   "outputs": [],
   "source": [
    "from time import perf_counter\n",
    "start = perf_counter()"
   ]
  },
  {
   "cell_type": "markdown",
   "metadata": {
    "id": "HythsjFZ9gsZ"
   },
   "source": [
    "<a id=library></a>\n",
    "## Import libraries"
   ]
  },
  {
   "cell_type": "code",
   "execution_count": 4,
   "metadata": {},
   "outputs": [],
   "source": [
    "!pip install -q kaggle"
   ]
  },
  {
   "cell_type": "code",
   "execution_count": 5,
   "metadata": {
    "executionInfo": {
     "elapsed": 4066,
     "status": "ok",
     "timestamp": 1610465700480,
     "user": {
      "displayName": "Elior Shriki",
      "photoUrl": "",
      "userId": "17074314425706635935"
     },
     "user_tz": -120
    },
    "id": "fkBpnWgI9gsZ"
   },
   "outputs": [],
   "source": [
    "!pip install -q graphviz"
   ]
  },
  {
   "cell_type": "code",
   "execution_count": 6,
   "metadata": {
    "colab": {
     "base_uri": "https://localhost:8080/"
    },
    "executionInfo": {
     "elapsed": 3086,
     "status": "ok",
     "timestamp": 1610465706300,
     "user": {
      "displayName": "Elior Shriki",
      "photoUrl": "",
      "userId": "17074314425706635935"
     },
     "user_tz": -120
    },
    "id": "FWQypBK79gsZ",
    "outputId": "d95f941d-65bd-474d-f17b-65295a6caa88"
   },
   "outputs": [],
   "source": [
    "import numpy as np\n",
    "import pandas as pd\n",
    "import matplotlib.pyplot as plt\n",
    "from sklearn.model_selection import train_test_split\n",
    "\n",
    "import seaborn as sns\n",
    "from tqdm import tqdm\n",
    "!pip install -q xgboost\n",
    "import xgboost as xgb\n",
    "\n",
    "from xgboost import plot_tree\n",
    "import statsmodels.api as sm\n",
    "import os"
   ]
  },
  {
   "cell_type": "markdown",
   "metadata": {
    "id": "OPINqcyO9gsa"
   },
   "source": [
    "<a id=data></a>\n",
    "## Import Dataset"
   ]
  },
  {
   "cell_type": "code",
   "execution_count": 7,
   "metadata": {
    "executionInfo": {
     "elapsed": 8869,
     "status": "ok",
     "timestamp": 1610465819081,
     "user": {
      "displayName": "Elior Shriki",
      "photoUrl": "",
      "userId": "17074314425706635935"
     },
     "user_tz": -120
    },
    "id": "BZMgJvRq9gsa"
   },
   "outputs": [],
   "source": [
    "nyc_taxi_train_df=pd.read_csv(\"./datasets/train_ds.csv\", index_col = \"id\")\n",
    "nyc_taxi_test_df=pd.read_csv(\"./datasets/test_ds.csv\", index_col = \"id\")"
   ]
  },
  {
   "cell_type": "code",
   "execution_count": 8,
   "metadata": {
    "colab": {
     "base_uri": "https://localhost:8080/",
     "height": 504
    },
    "executionInfo": {
     "elapsed": 8864,
     "status": "ok",
     "timestamp": 1610465819083,
     "user": {
      "displayName": "Elior Shriki",
      "photoUrl": "",
      "userId": "17074314425706635935"
     },
     "user_tz": -120
    },
    "id": "3NnsdUbV9gsa",
    "outputId": "3b8ac603-9467-41ed-d8ec-f685edacb95f"
   },
   "outputs": [
    {
     "data": {
      "text/html": [
       "<div>\n",
       "<style scoped>\n",
       "    .dataframe tbody tr th:only-of-type {\n",
       "        vertical-align: middle;\n",
       "    }\n",
       "\n",
       "    .dataframe tbody tr th {\n",
       "        vertical-align: top;\n",
       "    }\n",
       "\n",
       "    .dataframe thead th {\n",
       "        text-align: right;\n",
       "    }\n",
       "</style>\n",
       "<table border=\"1\" class=\"dataframe\">\n",
       "  <thead>\n",
       "    <tr style=\"text-align: right;\">\n",
       "      <th></th>\n",
       "      <th>passenger_count</th>\n",
       "      <th>pickup_longitude</th>\n",
       "      <th>pickup_latitude</th>\n",
       "      <th>dropoff_longitude</th>\n",
       "      <th>dropoff_latitude</th>\n",
       "      <th>store_and_fwd_flag</th>\n",
       "      <th>month</th>\n",
       "      <th>weekday</th>\n",
       "      <th>hour</th>\n",
       "      <th>minute</th>\n",
       "      <th>...</th>\n",
       "      <th>HDD</th>\n",
       "      <th>CDD</th>\n",
       "      <th>precipitation</th>\n",
       "      <th>snow fall</th>\n",
       "      <th>snow depth</th>\n",
       "      <th>kmeans_pickup</th>\n",
       "      <th>kmeans_dropoff</th>\n",
       "      <th>num_rides_by_pickup_group</th>\n",
       "      <th>num_rides_by_dropoff_group</th>\n",
       "      <th>trip_duration</th>\n",
       "    </tr>\n",
       "    <tr>\n",
       "      <th>id</th>\n",
       "      <th></th>\n",
       "      <th></th>\n",
       "      <th></th>\n",
       "      <th></th>\n",
       "      <th></th>\n",
       "      <th></th>\n",
       "      <th></th>\n",
       "      <th></th>\n",
       "      <th></th>\n",
       "      <th></th>\n",
       "      <th></th>\n",
       "      <th></th>\n",
       "      <th></th>\n",
       "      <th></th>\n",
       "      <th></th>\n",
       "      <th></th>\n",
       "      <th></th>\n",
       "      <th></th>\n",
       "      <th></th>\n",
       "      <th></th>\n",
       "      <th></th>\n",
       "    </tr>\n",
       "  </thead>\n",
       "  <tbody>\n",
       "    <tr>\n",
       "      <th>id2875421</th>\n",
       "      <td>1</td>\n",
       "      <td>-73.982155</td>\n",
       "      <td>40.767937</td>\n",
       "      <td>-73.964630</td>\n",
       "      <td>40.765602</td>\n",
       "      <td>0</td>\n",
       "      <td>3</td>\n",
       "      <td>0</td>\n",
       "      <td>17</td>\n",
       "      <td>24</td>\n",
       "      <td>...</td>\n",
       "      <td>19</td>\n",
       "      <td>0</td>\n",
       "      <td>0.29</td>\n",
       "      <td>0.0</td>\n",
       "      <td>0.0</td>\n",
       "      <td>1</td>\n",
       "      <td>0</td>\n",
       "      <td>758</td>\n",
       "      <td>745</td>\n",
       "      <td>455.0</td>\n",
       "    </tr>\n",
       "    <tr>\n",
       "      <th>id1226973</th>\n",
       "      <td>1</td>\n",
       "      <td>-73.984711</td>\n",
       "      <td>40.759007</td>\n",
       "      <td>-73.991318</td>\n",
       "      <td>40.750095</td>\n",
       "      <td>0</td>\n",
       "      <td>3</td>\n",
       "      <td>0</td>\n",
       "      <td>17</td>\n",
       "      <td>52</td>\n",
       "      <td>...</td>\n",
       "      <td>19</td>\n",
       "      <td>0</td>\n",
       "      <td>0.29</td>\n",
       "      <td>0.0</td>\n",
       "      <td>0.0</td>\n",
       "      <td>1</td>\n",
       "      <td>0</td>\n",
       "      <td>758</td>\n",
       "      <td>745</td>\n",
       "      <td>358.0</td>\n",
       "    </tr>\n",
       "    <tr>\n",
       "      <th>id2017735</th>\n",
       "      <td>2</td>\n",
       "      <td>-73.994209</td>\n",
       "      <td>40.751411</td>\n",
       "      <td>-73.977997</td>\n",
       "      <td>40.754959</td>\n",
       "      <td>0</td>\n",
       "      <td>3</td>\n",
       "      <td>0</td>\n",
       "      <td>17</td>\n",
       "      <td>26</td>\n",
       "      <td>...</td>\n",
       "      <td>19</td>\n",
       "      <td>0</td>\n",
       "      <td>0.29</td>\n",
       "      <td>0.0</td>\n",
       "      <td>0.0</td>\n",
       "      <td>1</td>\n",
       "      <td>0</td>\n",
       "      <td>758</td>\n",
       "      <td>745</td>\n",
       "      <td>549.0</td>\n",
       "    </tr>\n",
       "    <tr>\n",
       "      <th>id2856105</th>\n",
       "      <td>1</td>\n",
       "      <td>-73.984856</td>\n",
       "      <td>40.773968</td>\n",
       "      <td>-73.994781</td>\n",
       "      <td>40.761066</td>\n",
       "      <td>0</td>\n",
       "      <td>3</td>\n",
       "      <td>0</td>\n",
       "      <td>17</td>\n",
       "      <td>55</td>\n",
       "      <td>...</td>\n",
       "      <td>19</td>\n",
       "      <td>0</td>\n",
       "      <td>0.29</td>\n",
       "      <td>0.0</td>\n",
       "      <td>0.0</td>\n",
       "      <td>1</td>\n",
       "      <td>0</td>\n",
       "      <td>758</td>\n",
       "      <td>745</td>\n",
       "      <td>784.0</td>\n",
       "    </tr>\n",
       "    <tr>\n",
       "      <th>id2836996</th>\n",
       "      <td>1</td>\n",
       "      <td>-73.977898</td>\n",
       "      <td>40.759823</td>\n",
       "      <td>-73.979340</td>\n",
       "      <td>40.757935</td>\n",
       "      <td>0</td>\n",
       "      <td>3</td>\n",
       "      <td>0</td>\n",
       "      <td>17</td>\n",
       "      <td>16</td>\n",
       "      <td>...</td>\n",
       "      <td>19</td>\n",
       "      <td>0</td>\n",
       "      <td>0.29</td>\n",
       "      <td>0.0</td>\n",
       "      <td>0.0</td>\n",
       "      <td>1</td>\n",
       "      <td>0</td>\n",
       "      <td>758</td>\n",
       "      <td>745</td>\n",
       "      <td>670.0</td>\n",
       "    </tr>\n",
       "    <tr>\n",
       "      <th>...</th>\n",
       "      <td>...</td>\n",
       "      <td>...</td>\n",
       "      <td>...</td>\n",
       "      <td>...</td>\n",
       "      <td>...</td>\n",
       "      <td>...</td>\n",
       "      <td>...</td>\n",
       "      <td>...</td>\n",
       "      <td>...</td>\n",
       "      <td>...</td>\n",
       "      <td>...</td>\n",
       "      <td>...</td>\n",
       "      <td>...</td>\n",
       "      <td>...</td>\n",
       "      <td>...</td>\n",
       "      <td>...</td>\n",
       "      <td>...</td>\n",
       "      <td>...</td>\n",
       "      <td>...</td>\n",
       "      <td>...</td>\n",
       "      <td>...</td>\n",
       "    </tr>\n",
       "    <tr>\n",
       "      <th>id2457812</th>\n",
       "      <td>1</td>\n",
       "      <td>-73.929634</td>\n",
       "      <td>40.760757</td>\n",
       "      <td>-73.865875</td>\n",
       "      <td>40.753941</td>\n",
       "      <td>0</td>\n",
       "      <td>5</td>\n",
       "      <td>3</td>\n",
       "      <td>2</td>\n",
       "      <td>58</td>\n",
       "      <td>...</td>\n",
       "      <td>13</td>\n",
       "      <td>0</td>\n",
       "      <td>0.00</td>\n",
       "      <td>0.0</td>\n",
       "      <td>0.0</td>\n",
       "      <td>0</td>\n",
       "      <td>1</td>\n",
       "      <td>37</td>\n",
       "      <td>37</td>\n",
       "      <td>753.0</td>\n",
       "    </tr>\n",
       "    <tr>\n",
       "      <th>id0376233</th>\n",
       "      <td>2</td>\n",
       "      <td>-73.940376</td>\n",
       "      <td>40.751068</td>\n",
       "      <td>-73.897202</td>\n",
       "      <td>40.712639</td>\n",
       "      <td>0</td>\n",
       "      <td>5</td>\n",
       "      <td>3</td>\n",
       "      <td>2</td>\n",
       "      <td>51</td>\n",
       "      <td>...</td>\n",
       "      <td>0</td>\n",
       "      <td>3</td>\n",
       "      <td>0.00</td>\n",
       "      <td>0.0</td>\n",
       "      <td>0.0</td>\n",
       "      <td>0</td>\n",
       "      <td>1</td>\n",
       "      <td>37</td>\n",
       "      <td>37</td>\n",
       "      <td>1039.0</td>\n",
       "    </tr>\n",
       "    <tr>\n",
       "      <th>id3416877</th>\n",
       "      <td>2</td>\n",
       "      <td>-73.950523</td>\n",
       "      <td>40.779690</td>\n",
       "      <td>-73.891731</td>\n",
       "      <td>40.855377</td>\n",
       "      <td>0</td>\n",
       "      <td>5</td>\n",
       "      <td>3</td>\n",
       "      <td>2</td>\n",
       "      <td>27</td>\n",
       "      <td>...</td>\n",
       "      <td>0</td>\n",
       "      <td>3</td>\n",
       "      <td>0.00</td>\n",
       "      <td>0.0</td>\n",
       "      <td>0.0</td>\n",
       "      <td>0</td>\n",
       "      <td>1</td>\n",
       "      <td>37</td>\n",
       "      <td>37</td>\n",
       "      <td>1061.0</td>\n",
       "    </tr>\n",
       "    <tr>\n",
       "      <th>id3275848</th>\n",
       "      <td>1</td>\n",
       "      <td>-73.776703</td>\n",
       "      <td>40.645386</td>\n",
       "      <td>-73.754005</td>\n",
       "      <td>40.718071</td>\n",
       "      <td>0</td>\n",
       "      <td>5</td>\n",
       "      <td>3</td>\n",
       "      <td>1</td>\n",
       "      <td>25</td>\n",
       "      <td>...</td>\n",
       "      <td>1</td>\n",
       "      <td>0</td>\n",
       "      <td>0.00</td>\n",
       "      <td>0.0</td>\n",
       "      <td>0.0</td>\n",
       "      <td>2</td>\n",
       "      <td>3</td>\n",
       "      <td>11</td>\n",
       "      <td>2</td>\n",
       "      <td>1211.0</td>\n",
       "    </tr>\n",
       "    <tr>\n",
       "      <th>id1294177</th>\n",
       "      <td>1</td>\n",
       "      <td>-73.790039</td>\n",
       "      <td>40.646648</td>\n",
       "      <td>-73.815887</td>\n",
       "      <td>40.681419</td>\n",
       "      <td>0</td>\n",
       "      <td>5</td>\n",
       "      <td>3</td>\n",
       "      <td>1</td>\n",
       "      <td>20</td>\n",
       "      <td>...</td>\n",
       "      <td>0</td>\n",
       "      <td>3</td>\n",
       "      <td>0.00</td>\n",
       "      <td>0.0</td>\n",
       "      <td>0.0</td>\n",
       "      <td>2</td>\n",
       "      <td>3</td>\n",
       "      <td>11</td>\n",
       "      <td>2</td>\n",
       "      <td>423.0</td>\n",
       "    </tr>\n",
       "  </tbody>\n",
       "</table>\n",
       "<p>1438177 rows × 45 columns</p>\n",
       "</div>"
      ],
      "text/plain": [
       "           passenger_count  pickup_longitude  pickup_latitude  \\\n",
       "id                                                              \n",
       "id2875421                1        -73.982155        40.767937   \n",
       "id1226973                1        -73.984711        40.759007   \n",
       "id2017735                2        -73.994209        40.751411   \n",
       "id2856105                1        -73.984856        40.773968   \n",
       "id2836996                1        -73.977898        40.759823   \n",
       "...                    ...               ...              ...   \n",
       "id2457812                1        -73.929634        40.760757   \n",
       "id0376233                2        -73.940376        40.751068   \n",
       "id3416877                2        -73.950523        40.779690   \n",
       "id3275848                1        -73.776703        40.645386   \n",
       "id1294177                1        -73.790039        40.646648   \n",
       "\n",
       "           dropoff_longitude  dropoff_latitude  store_and_fwd_flag  month  \\\n",
       "id                                                                          \n",
       "id2875421         -73.964630         40.765602                   0      3   \n",
       "id1226973         -73.991318         40.750095                   0      3   \n",
       "id2017735         -73.977997         40.754959                   0      3   \n",
       "id2856105         -73.994781         40.761066                   0      3   \n",
       "id2836996         -73.979340         40.757935                   0      3   \n",
       "...                      ...               ...                 ...    ...   \n",
       "id2457812         -73.865875         40.753941                   0      5   \n",
       "id0376233         -73.897202         40.712639                   0      5   \n",
       "id3416877         -73.891731         40.855377                   0      5   \n",
       "id3275848         -73.754005         40.718071                   0      5   \n",
       "id1294177         -73.815887         40.681419                   0      5   \n",
       "\n",
       "           weekday  hour  minute  ...  HDD  CDD  precipitation  snow fall  \\\n",
       "id                                ...                                       \n",
       "id2875421        0    17      24  ...   19    0           0.29        0.0   \n",
       "id1226973        0    17      52  ...   19    0           0.29        0.0   \n",
       "id2017735        0    17      26  ...   19    0           0.29        0.0   \n",
       "id2856105        0    17      55  ...   19    0           0.29        0.0   \n",
       "id2836996        0    17      16  ...   19    0           0.29        0.0   \n",
       "...            ...   ...     ...  ...  ...  ...            ...        ...   \n",
       "id2457812        3     2      58  ...   13    0           0.00        0.0   \n",
       "id0376233        3     2      51  ...    0    3           0.00        0.0   \n",
       "id3416877        3     2      27  ...    0    3           0.00        0.0   \n",
       "id3275848        3     1      25  ...    1    0           0.00        0.0   \n",
       "id1294177        3     1      20  ...    0    3           0.00        0.0   \n",
       "\n",
       "           snow depth  kmeans_pickup  kmeans_dropoff  \\\n",
       "id                                                     \n",
       "id2875421         0.0              1               0   \n",
       "id1226973         0.0              1               0   \n",
       "id2017735         0.0              1               0   \n",
       "id2856105         0.0              1               0   \n",
       "id2836996         0.0              1               0   \n",
       "...               ...            ...             ...   \n",
       "id2457812         0.0              0               1   \n",
       "id0376233         0.0              0               1   \n",
       "id3416877         0.0              0               1   \n",
       "id3275848         0.0              2               3   \n",
       "id1294177         0.0              2               3   \n",
       "\n",
       "           num_rides_by_pickup_group  num_rides_by_dropoff_group  \\\n",
       "id                                                                 \n",
       "id2875421                        758                         745   \n",
       "id1226973                        758                         745   \n",
       "id2017735                        758                         745   \n",
       "id2856105                        758                         745   \n",
       "id2836996                        758                         745   \n",
       "...                              ...                         ...   \n",
       "id2457812                         37                          37   \n",
       "id0376233                         37                          37   \n",
       "id3416877                         37                          37   \n",
       "id3275848                         11                           2   \n",
       "id1294177                         11                           2   \n",
       "\n",
       "           trip_duration  \n",
       "id                        \n",
       "id2875421          455.0  \n",
       "id1226973          358.0  \n",
       "id2017735          549.0  \n",
       "id2856105          784.0  \n",
       "id2836996          670.0  \n",
       "...                  ...  \n",
       "id2457812          753.0  \n",
       "id0376233         1039.0  \n",
       "id3416877         1061.0  \n",
       "id3275848         1211.0  \n",
       "id1294177          423.0  \n",
       "\n",
       "[1438177 rows x 45 columns]"
      ]
     },
     "execution_count": 8,
     "metadata": {},
     "output_type": "execute_result"
    }
   ],
   "source": [
    "nyc_taxi_train_df"
   ]
  },
  {
   "cell_type": "code",
   "execution_count": 9,
   "metadata": {},
   "outputs": [
    {
     "data": {
      "text/html": [
       "<div>\n",
       "<style scoped>\n",
       "    .dataframe tbody tr th:only-of-type {\n",
       "        vertical-align: middle;\n",
       "    }\n",
       "\n",
       "    .dataframe tbody tr th {\n",
       "        vertical-align: top;\n",
       "    }\n",
       "\n",
       "    .dataframe thead th {\n",
       "        text-align: right;\n",
       "    }\n",
       "</style>\n",
       "<table border=\"1\" class=\"dataframe\">\n",
       "  <thead>\n",
       "    <tr style=\"text-align: right;\">\n",
       "      <th></th>\n",
       "      <th>trip_duration</th>\n",
       "    </tr>\n",
       "  </thead>\n",
       "  <tbody>\n",
       "    <tr>\n",
       "      <th>count</th>\n",
       "      <td>1.438177e+06</td>\n",
       "    </tr>\n",
       "    <tr>\n",
       "      <th>mean</th>\n",
       "      <td>8.350762e+02</td>\n",
       "    </tr>\n",
       "    <tr>\n",
       "      <th>std</th>\n",
       "      <td>6.454507e+02</td>\n",
       "    </tr>\n",
       "    <tr>\n",
       "      <th>min</th>\n",
       "      <td>6.100000e+01</td>\n",
       "    </tr>\n",
       "    <tr>\n",
       "      <th>25%</th>\n",
       "      <td>4.000000e+02</td>\n",
       "    </tr>\n",
       "    <tr>\n",
       "      <th>50%</th>\n",
       "      <td>6.630000e+02</td>\n",
       "    </tr>\n",
       "    <tr>\n",
       "      <th>75%</th>\n",
       "      <td>1.069000e+03</td>\n",
       "    </tr>\n",
       "    <tr>\n",
       "      <th>max</th>\n",
       "      <td>7.191000e+03</td>\n",
       "    </tr>\n",
       "  </tbody>\n",
       "</table>\n",
       "</div>"
      ],
      "text/plain": [
       "       trip_duration\n",
       "count   1.438177e+06\n",
       "mean    8.350762e+02\n",
       "std     6.454507e+02\n",
       "min     6.100000e+01\n",
       "25%     4.000000e+02\n",
       "50%     6.630000e+02\n",
       "75%     1.069000e+03\n",
       "max     7.191000e+03"
      ]
     },
     "execution_count": 9,
     "metadata": {},
     "output_type": "execute_result"
    }
   ],
   "source": [
    "nyc_taxi_train_df[['trip_duration']].describe()"
   ]
  },
  {
   "cell_type": "code",
   "execution_count": 10,
   "metadata": {
    "colab": {
     "base_uri": "https://localhost:8080/",
     "height": 504
    },
    "executionInfo": {
     "elapsed": 7893,
     "status": "ok",
     "timestamp": 1610465819083,
     "user": {
      "displayName": "Elior Shriki",
      "photoUrl": "",
      "userId": "17074314425706635935"
     },
     "user_tz": -120
    },
    "id": "AfI9SZuVPdKF",
    "outputId": "c059e638-abe6-4ba7-8611-cbeb1898dc51"
   },
   "outputs": [
    {
     "data": {
      "text/html": [
       "<div>\n",
       "<style scoped>\n",
       "    .dataframe tbody tr th:only-of-type {\n",
       "        vertical-align: middle;\n",
       "    }\n",
       "\n",
       "    .dataframe tbody tr th {\n",
       "        vertical-align: top;\n",
       "    }\n",
       "\n",
       "    .dataframe thead th {\n",
       "        text-align: right;\n",
       "    }\n",
       "</style>\n",
       "<table border=\"1\" class=\"dataframe\">\n",
       "  <thead>\n",
       "    <tr style=\"text-align: right;\">\n",
       "      <th></th>\n",
       "      <th>passenger_count</th>\n",
       "      <th>pickup_longitude</th>\n",
       "      <th>pickup_latitude</th>\n",
       "      <th>dropoff_longitude</th>\n",
       "      <th>dropoff_latitude</th>\n",
       "      <th>store_and_fwd_flag</th>\n",
       "      <th>month</th>\n",
       "      <th>weekday</th>\n",
       "      <th>hour</th>\n",
       "      <th>minute</th>\n",
       "      <th>...</th>\n",
       "      <th>departure</th>\n",
       "      <th>HDD</th>\n",
       "      <th>CDD</th>\n",
       "      <th>precipitation</th>\n",
       "      <th>snow fall</th>\n",
       "      <th>snow depth</th>\n",
       "      <th>kmeans_pickup</th>\n",
       "      <th>kmeans_dropoff</th>\n",
       "      <th>num_rides_by_pickup_group</th>\n",
       "      <th>num_rides_by_dropoff_group</th>\n",
       "    </tr>\n",
       "    <tr>\n",
       "      <th>id</th>\n",
       "      <th></th>\n",
       "      <th></th>\n",
       "      <th></th>\n",
       "      <th></th>\n",
       "      <th></th>\n",
       "      <th></th>\n",
       "      <th></th>\n",
       "      <th></th>\n",
       "      <th></th>\n",
       "      <th></th>\n",
       "      <th></th>\n",
       "      <th></th>\n",
       "      <th></th>\n",
       "      <th></th>\n",
       "      <th></th>\n",
       "      <th></th>\n",
       "      <th></th>\n",
       "      <th></th>\n",
       "      <th></th>\n",
       "      <th></th>\n",
       "      <th></th>\n",
       "    </tr>\n",
       "  </thead>\n",
       "  <tbody>\n",
       "    <tr>\n",
       "      <th>id3004672</th>\n",
       "      <td>1</td>\n",
       "      <td>-73.988129</td>\n",
       "      <td>40.732029</td>\n",
       "      <td>-73.990173</td>\n",
       "      <td>40.756680</td>\n",
       "      <td>0</td>\n",
       "      <td>6</td>\n",
       "      <td>3</td>\n",
       "      <td>23</td>\n",
       "      <td>59</td>\n",
       "      <td>...</td>\n",
       "      <td>0.9</td>\n",
       "      <td>0</td>\n",
       "      <td>11</td>\n",
       "      <td>0.0</td>\n",
       "      <td>0.0</td>\n",
       "      <td>0.0</td>\n",
       "      <td>0</td>\n",
       "      <td>0</td>\n",
       "      <td>295.0</td>\n",
       "      <td>760</td>\n",
       "    </tr>\n",
       "    <tr>\n",
       "      <th>id3505355</th>\n",
       "      <td>1</td>\n",
       "      <td>-73.964203</td>\n",
       "      <td>40.679993</td>\n",
       "      <td>-73.959808</td>\n",
       "      <td>40.655403</td>\n",
       "      <td>0</td>\n",
       "      <td>6</td>\n",
       "      <td>3</td>\n",
       "      <td>23</td>\n",
       "      <td>59</td>\n",
       "      <td>...</td>\n",
       "      <td>0.9</td>\n",
       "      <td>0</td>\n",
       "      <td>11</td>\n",
       "      <td>0.0</td>\n",
       "      <td>0.0</td>\n",
       "      <td>0.0</td>\n",
       "      <td>0</td>\n",
       "      <td>5</td>\n",
       "      <td>295.0</td>\n",
       "      <td>248</td>\n",
       "    </tr>\n",
       "    <tr>\n",
       "      <th>id1217141</th>\n",
       "      <td>1</td>\n",
       "      <td>-73.997437</td>\n",
       "      <td>40.737583</td>\n",
       "      <td>-73.986160</td>\n",
       "      <td>40.729523</td>\n",
       "      <td>0</td>\n",
       "      <td>6</td>\n",
       "      <td>3</td>\n",
       "      <td>23</td>\n",
       "      <td>59</td>\n",
       "      <td>...</td>\n",
       "      <td>0.9</td>\n",
       "      <td>0</td>\n",
       "      <td>11</td>\n",
       "      <td>0.0</td>\n",
       "      <td>0.0</td>\n",
       "      <td>0.0</td>\n",
       "      <td>0</td>\n",
       "      <td>5</td>\n",
       "      <td>295.0</td>\n",
       "      <td>248</td>\n",
       "    </tr>\n",
       "    <tr>\n",
       "      <th>id2150126</th>\n",
       "      <td>1</td>\n",
       "      <td>-73.956070</td>\n",
       "      <td>40.771900</td>\n",
       "      <td>-73.986427</td>\n",
       "      <td>40.730469</td>\n",
       "      <td>0</td>\n",
       "      <td>6</td>\n",
       "      <td>3</td>\n",
       "      <td>23</td>\n",
       "      <td>59</td>\n",
       "      <td>...</td>\n",
       "      <td>0.9</td>\n",
       "      <td>0</td>\n",
       "      <td>11</td>\n",
       "      <td>0.0</td>\n",
       "      <td>0.0</td>\n",
       "      <td>0.0</td>\n",
       "      <td>3</td>\n",
       "      <td>5</td>\n",
       "      <td>847.0</td>\n",
       "      <td>248</td>\n",
       "    </tr>\n",
       "    <tr>\n",
       "      <th>id1598245</th>\n",
       "      <td>1</td>\n",
       "      <td>-73.970215</td>\n",
       "      <td>40.761475</td>\n",
       "      <td>-73.961510</td>\n",
       "      <td>40.755890</td>\n",
       "      <td>0</td>\n",
       "      <td>6</td>\n",
       "      <td>3</td>\n",
       "      <td>23</td>\n",
       "      <td>59</td>\n",
       "      <td>...</td>\n",
       "      <td>0.9</td>\n",
       "      <td>0</td>\n",
       "      <td>11</td>\n",
       "      <td>0.0</td>\n",
       "      <td>0.0</td>\n",
       "      <td>0.0</td>\n",
       "      <td>3</td>\n",
       "      <td>0</td>\n",
       "      <td>847.0</td>\n",
       "      <td>760</td>\n",
       "    </tr>\n",
       "    <tr>\n",
       "      <th>...</th>\n",
       "      <td>...</td>\n",
       "      <td>...</td>\n",
       "      <td>...</td>\n",
       "      <td>...</td>\n",
       "      <td>...</td>\n",
       "      <td>...</td>\n",
       "      <td>...</td>\n",
       "      <td>...</td>\n",
       "      <td>...</td>\n",
       "      <td>...</td>\n",
       "      <td>...</td>\n",
       "      <td>...</td>\n",
       "      <td>...</td>\n",
       "      <td>...</td>\n",
       "      <td>...</td>\n",
       "      <td>...</td>\n",
       "      <td>...</td>\n",
       "      <td>...</td>\n",
       "      <td>...</td>\n",
       "      <td>...</td>\n",
       "      <td>...</td>\n",
       "    </tr>\n",
       "    <tr>\n",
       "      <th>id3008929</th>\n",
       "      <td>1</td>\n",
       "      <td>-74.003464</td>\n",
       "      <td>40.725105</td>\n",
       "      <td>-74.001251</td>\n",
       "      <td>40.733643</td>\n",
       "      <td>0</td>\n",
       "      <td>1</td>\n",
       "      <td>4</td>\n",
       "      <td>0</td>\n",
       "      <td>2</td>\n",
       "      <td>...</td>\n",
       "      <td>4.6</td>\n",
       "      <td>27</td>\n",
       "      <td>0</td>\n",
       "      <td>0.0</td>\n",
       "      <td>0.0</td>\n",
       "      <td>0.0</td>\n",
       "      <td>0</td>\n",
       "      <td>5</td>\n",
       "      <td>267.0</td>\n",
       "      <td>195</td>\n",
       "    </tr>\n",
       "    <tr>\n",
       "      <th>id3700764</th>\n",
       "      <td>1</td>\n",
       "      <td>-74.006363</td>\n",
       "      <td>40.743782</td>\n",
       "      <td>-73.953407</td>\n",
       "      <td>40.782467</td>\n",
       "      <td>0</td>\n",
       "      <td>1</td>\n",
       "      <td>4</td>\n",
       "      <td>0</td>\n",
       "      <td>1</td>\n",
       "      <td>...</td>\n",
       "      <td>4.6</td>\n",
       "      <td>27</td>\n",
       "      <td>0</td>\n",
       "      <td>0.0</td>\n",
       "      <td>0.0</td>\n",
       "      <td>0.0</td>\n",
       "      <td>0</td>\n",
       "      <td>4</td>\n",
       "      <td>267.0</td>\n",
       "      <td>381</td>\n",
       "    </tr>\n",
       "    <tr>\n",
       "      <th>id2568735</th>\n",
       "      <td>2</td>\n",
       "      <td>-73.972267</td>\n",
       "      <td>40.759865</td>\n",
       "      <td>-73.876602</td>\n",
       "      <td>40.748665</td>\n",
       "      <td>0</td>\n",
       "      <td>1</td>\n",
       "      <td>4</td>\n",
       "      <td>0</td>\n",
       "      <td>1</td>\n",
       "      <td>...</td>\n",
       "      <td>4.6</td>\n",
       "      <td>27</td>\n",
       "      <td>0</td>\n",
       "      <td>0.0</td>\n",
       "      <td>0.0</td>\n",
       "      <td>0.0</td>\n",
       "      <td>3</td>\n",
       "      <td>4</td>\n",
       "      <td>659.0</td>\n",
       "      <td>381</td>\n",
       "    </tr>\n",
       "    <tr>\n",
       "      <th>id1384355</th>\n",
       "      <td>1</td>\n",
       "      <td>-73.976501</td>\n",
       "      <td>40.733562</td>\n",
       "      <td>-73.854263</td>\n",
       "      <td>40.891788</td>\n",
       "      <td>0</td>\n",
       "      <td>1</td>\n",
       "      <td>4</td>\n",
       "      <td>0</td>\n",
       "      <td>0</td>\n",
       "      <td>...</td>\n",
       "      <td>4.6</td>\n",
       "      <td>27</td>\n",
       "      <td>0</td>\n",
       "      <td>0.0</td>\n",
       "      <td>0.0</td>\n",
       "      <td>0.0</td>\n",
       "      <td>0</td>\n",
       "      <td>4</td>\n",
       "      <td>267.0</td>\n",
       "      <td>381</td>\n",
       "    </tr>\n",
       "    <tr>\n",
       "      <th>id0621643</th>\n",
       "      <td>2</td>\n",
       "      <td>-73.981850</td>\n",
       "      <td>40.716881</td>\n",
       "      <td>-73.969330</td>\n",
       "      <td>40.769379</td>\n",
       "      <td>0</td>\n",
       "      <td>1</td>\n",
       "      <td>4</td>\n",
       "      <td>0</td>\n",
       "      <td>0</td>\n",
       "      <td>...</td>\n",
       "      <td>4.6</td>\n",
       "      <td>27</td>\n",
       "      <td>0</td>\n",
       "      <td>0.0</td>\n",
       "      <td>0.0</td>\n",
       "      <td>0.0</td>\n",
       "      <td>0</td>\n",
       "      <td>0</td>\n",
       "      <td>267.0</td>\n",
       "      <td>496</td>\n",
       "    </tr>\n",
       "  </tbody>\n",
       "</table>\n",
       "<p>625134 rows × 44 columns</p>\n",
       "</div>"
      ],
      "text/plain": [
       "           passenger_count  pickup_longitude  pickup_latitude  \\\n",
       "id                                                              \n",
       "id3004672                1        -73.988129        40.732029   \n",
       "id3505355                1        -73.964203        40.679993   \n",
       "id1217141                1        -73.997437        40.737583   \n",
       "id2150126                1        -73.956070        40.771900   \n",
       "id1598245                1        -73.970215        40.761475   \n",
       "...                    ...               ...              ...   \n",
       "id3008929                1        -74.003464        40.725105   \n",
       "id3700764                1        -74.006363        40.743782   \n",
       "id2568735                2        -73.972267        40.759865   \n",
       "id1384355                1        -73.976501        40.733562   \n",
       "id0621643                2        -73.981850        40.716881   \n",
       "\n",
       "           dropoff_longitude  dropoff_latitude  store_and_fwd_flag  month  \\\n",
       "id                                                                          \n",
       "id3004672         -73.990173         40.756680                   0      6   \n",
       "id3505355         -73.959808         40.655403                   0      6   \n",
       "id1217141         -73.986160         40.729523                   0      6   \n",
       "id2150126         -73.986427         40.730469                   0      6   \n",
       "id1598245         -73.961510         40.755890                   0      6   \n",
       "...                      ...               ...                 ...    ...   \n",
       "id3008929         -74.001251         40.733643                   0      1   \n",
       "id3700764         -73.953407         40.782467                   0      1   \n",
       "id2568735         -73.876602         40.748665                   0      1   \n",
       "id1384355         -73.854263         40.891788                   0      1   \n",
       "id0621643         -73.969330         40.769379                   0      1   \n",
       "\n",
       "           weekday  hour  minute  ...  departure  HDD  CDD  precipitation  \\\n",
       "id                                ...                                       \n",
       "id3004672        3    23      59  ...        0.9    0   11            0.0   \n",
       "id3505355        3    23      59  ...        0.9    0   11            0.0   \n",
       "id1217141        3    23      59  ...        0.9    0   11            0.0   \n",
       "id2150126        3    23      59  ...        0.9    0   11            0.0   \n",
       "id1598245        3    23      59  ...        0.9    0   11            0.0   \n",
       "...            ...   ...     ...  ...        ...  ...  ...            ...   \n",
       "id3008929        4     0       2  ...        4.6   27    0            0.0   \n",
       "id3700764        4     0       1  ...        4.6   27    0            0.0   \n",
       "id2568735        4     0       1  ...        4.6   27    0            0.0   \n",
       "id1384355        4     0       0  ...        4.6   27    0            0.0   \n",
       "id0621643        4     0       0  ...        4.6   27    0            0.0   \n",
       "\n",
       "           snow fall  snow depth  kmeans_pickup  kmeans_dropoff  \\\n",
       "id                                                                \n",
       "id3004672        0.0         0.0              0               0   \n",
       "id3505355        0.0         0.0              0               5   \n",
       "id1217141        0.0         0.0              0               5   \n",
       "id2150126        0.0         0.0              3               5   \n",
       "id1598245        0.0         0.0              3               0   \n",
       "...              ...         ...            ...             ...   \n",
       "id3008929        0.0         0.0              0               5   \n",
       "id3700764        0.0         0.0              0               4   \n",
       "id2568735        0.0         0.0              3               4   \n",
       "id1384355        0.0         0.0              0               4   \n",
       "id0621643        0.0         0.0              0               0   \n",
       "\n",
       "           num_rides_by_pickup_group  num_rides_by_dropoff_group  \n",
       "id                                                                \n",
       "id3004672                      295.0                         760  \n",
       "id3505355                      295.0                         248  \n",
       "id1217141                      295.0                         248  \n",
       "id2150126                      847.0                         248  \n",
       "id1598245                      847.0                         760  \n",
       "...                              ...                         ...  \n",
       "id3008929                      267.0                         195  \n",
       "id3700764                      267.0                         381  \n",
       "id2568735                      659.0                         381  \n",
       "id1384355                      267.0                         381  \n",
       "id0621643                      267.0                         496  \n",
       "\n",
       "[625134 rows x 44 columns]"
      ]
     },
     "execution_count": 10,
     "metadata": {},
     "output_type": "execute_result"
    }
   ],
   "source": [
    "nyc_taxi_test_df"
   ]
  },
  {
   "cell_type": "markdown",
   "metadata": {
    "id": "1UcV3cCU9gsg"
   },
   "source": [
    "## Boosting Trees\n",
    "***\n",
    "With a regular machine learning model, like a decision tree, we’d simply train a single model on our dataset and use that for prediction. \n",
    "\n",
    "We might play around with the parameters for a bit or augment the data, but in the end we are still using a single model. Even if we build an ensemble, all of the models are trained and applied to our data separately.\n",
    "\n",
    "Boosting, on the other hand, takes a more iterative approach. It’s still technically an ensemble technique in that many models are combined together to perform the final one, but takes a more clever approach.\n",
    "\n",
    "Rather than training all of the models in isolation of one another, boosting trains models in succession, with each new model being trained to correct the errors made by the previous ones. Models are added sequentially until no further improvements can be made.\n",
    "\n",
    "The advantage of this iterative approach is that the new models being added are focused on correcting the mistakes which were caused by other models. In a standard ensemble method where models are trained in isolation, all of the models might simply end up making the same mistakes!\n",
    "\n",
    "**Gradient Boosting** specifically is an approach where new models are trained to predict the residuals (i.e errors) of prior models.\n",
    "Gradient Boosting involves creating and adding decision trees to an ensemble model sequentially. New trees are created to correct the residual errors in the predictions from the existing ensemble.\n",
    "<img src='https://user-images.githubusercontent.com/12760721/103373634-1de9f880-4ade-11eb-8c80-972f52c8fa52.png' align=\"left\"/>"
   ]
  },
  {
   "cell_type": "markdown",
   "metadata": {
    "id": "FZlM-lhB9gsg"
   },
   "source": [
    "<a id=xgboost></a>\n",
    "## XGBoost Regressor\n",
    "***\n",
    "XGBoost (Extreme Gradient Boosting) is an optimized distributed gradient boosting library. \n",
    "\n",
    "It uses gradient boosting (GBM) framework at core. \n",
    "\n",
    "It belongs to a family of boosting algorithms that convert weak learners into strong learners. A weak learner is one which is slightly better than random guessing.\n",
    "\n",
    "'Boosting' here is a sequential process; i.e., trees are grown using the information from a previously grown tree one after the other. This process slowly learns from data and tries to improve its prediction in the subsequent iterations.\n",
    "\n",
    "DMatrix is an internal data structure that is used by XGBoost, which is optimized for both memory efficiency and training speed. You can construct DMatrix from multiple different sources of data.\n",
    "\n",
    "Due to the nature of an ensemble, i.e having several models put together to form what is essentially a very large complicated one, makes this technique prone to overfitting. The eta parameter gives us a chance to prevent this overfitting\n",
    "The eta can be thought of more intuitively as a learning rate. Rather than simply adding the predictions of new trees to the ensemble with full weight, the eta will be multiplied by the residuals being adding to reduce their weight. This effectively reduces the complexity of the overall model.\n",
    "It is common to have small values in the range of 0.1 to 0.3. The smaller weighting of these residuals will still help us train a powerful model, but won’t let that model run away into deep complexity where overfitting is more likely to happen.\n",
    "\n",
    "<img src='https://user-images.githubusercontent.com/12760721/103403899-79f26280-4b5a-11eb-846b-69fe9aecbf1c.png' align=\"left\"/>\n",
    "\n",
    "![image.png](attachment:bed8f1ac-9a72-4302-9256-4b7abedf33d5.png)"
   ]
  },
  {
   "cell_type": "code",
   "execution_count": 12,
   "metadata": {
    "id": "Cjd01UzZ9gsg"
   },
   "outputs": [],
   "source": [
    "def setup_df(train,test,drop_columns):\n",
    "    new_train = train.drop([col for col in DO_NOT_USE_FOR_TRAINING if col in train], axis=1)\n",
    "    new_test = test.drop([col for col in DO_NOT_USE_FOR_TRAINING if col in test], axis=1)\n",
    "\n",
    "    print(f'train shape: {new_train.shape}\\ntest shape: {new_test.shape}')\n",
    "    \n",
    "    # Use log to handle outliers\n",
    "    y = np.log(train['trip_duration'].values)\n",
    "    train_arr = np.array(new_train)\n",
    "    train_arr.shape\n",
    "    \n",
    "    return train_arr,y,new_test,new_train.columns.to_list(), new_train"
   ]
  },
  {
   "cell_type": "code",
   "execution_count": 13,
   "metadata": {
    "id": "zC-TKvg19gsh"
   },
   "outputs": [],
   "source": [
    "def gen_xgb_model(train,y,test,feature_names,xgb_pars=None,split_ratio=0.2):\n",
    "    train_x, val_x, train_y, val_y = train_test_split(train, y, test_size=split_ratio)\n",
    "    \n",
    "    dtrain = xgb.DMatrix(train_x, label=train_y, feature_names=feature_names)\n",
    "    dvalid = xgb.DMatrix(val_x, label=val_y, feature_names=feature_names)\n",
    "    dtest = xgb.DMatrix(test.values, feature_names=feature_names)\n",
    "    watchlist = [(dtrain, 'train'), (dvalid, 'valid')]\n",
    "    \n",
    "    if not xgb_pars:\n",
    "        xgb_pars = {'min_child_weight': 100, 'eta': 0.1, 'colsample_bytree': 0.7, 'max_depth': 15,\n",
    "                'subsample': 0.8, 'lambda': 1., 'nthread': -1, 'booster' : 'gbtree', 'silent': 1,\n",
    "                'eval_metric': 'rmse', 'objective': 'reg:linear'}\n",
    "    \n",
    "    result = xgb.cv(params=xgb_pars, dtrain=dtrain, num_boost_round=500, early_stopping_rounds=50, as_pandas=True, seed=1)\n",
    "    print(f'xgb cv:\\n{result}')\n",
    "    \n",
    "    model_xgb = xgb.train(xgb_pars, dtrain, 750, watchlist, early_stopping_rounds=50,\n",
    "                maximize=False, verbose_eval=20)         \n",
    "    \n",
    "    return model_xgb,dtest"
   ]
  },
  {
   "cell_type": "code",
   "execution_count": 14,
   "metadata": {
    "id": "42F_kS049gsh"
   },
   "outputs": [],
   "source": [
    "def correlation_heatmap(train):\n",
    "    correlations = train.corr()\n",
    "\n",
    "    fig, ax = plt.subplots(figsize=(10,10))\n",
    "    sns.heatmap(correlations, vmax=1.0, center=0, fmt='.2f', cmap=\"YlGnBu\",\n",
    "                square=True, linewidths=.5, annot=True, cbar_kws={\"shrink\": .70}\n",
    "                )\n",
    "    plt.show();"
   ]
  },
  {
   "cell_type": "code",
   "execution_count": 15,
   "metadata": {
    "id": "G_h_pih_9gsh"
   },
   "outputs": [],
   "source": [
    "def print_xgb_metric(model_xgb):\n",
    "    print('XGB Modeling RMSLE %.5f' % model_xgb.best_score)\n",
    "    model_xgb.get_score(importance_type='gain')\n",
    "    \n",
    "    fig, ax = plt.subplots(figsize=(12,18))\n",
    "    xgb.plot_importance(model_xgb, height=0.8, ax=ax, importance_type='gain')\n",
    "    plt.show()   "
   ]
  },
  {
   "cell_type": "code",
   "execution_count": 16,
   "metadata": {
    "id": "kEOtEy699gsh"
   },
   "outputs": [],
   "source": [
    "def plot_tree(xgb_model, filename, rankdir='UT'):\n",
    "    \"\"\"\n",
    "    Plot the tree in high resolution\n",
    "    :param xgb_model: xgboost trained model\n",
    "    :param filename: the pdf file where this is saved\n",
    "    :param rankdir: direction of the tree: default Top-Down (UT), accepts:'LR' for left-to-right tree\n",
    "    :return:\n",
    "    \"\"\"\n",
    "    gvz = xgb.to_graphviz(xgb_model, num_trees=xgb_model.best_iteration, rankdir=rankdir)\n",
    "    _, file_extension = os.path.splitext(filename)\n",
    "    format = file_extension.strip('.').lower()\n",
    "    data = gvz.pipe(format=format)\n",
    "    full_filename = filename\n",
    "    with open(full_filename, 'wb') as f:\n",
    "        f.write(data)     "
   ]
  },
  {
   "cell_type": "code",
   "execution_count": 17,
   "metadata": {
    "id": "odHk8tfK9gsh"
   },
   "outputs": [],
   "source": [
    "nyc_taxi_train_df2=nyc_taxi_train_df.copy()\n",
    "nyc_taxi_test_df2=nyc_taxi_test_df.copy()"
   ]
  },
  {
   "cell_type": "code",
   "execution_count": 18,
   "metadata": {
    "id": "_2k6J1AI9gsh",
    "outputId": "2ea77326-0f8f-4599-c997-fb46d94e6ed5"
   },
   "outputs": [
    {
     "name": "stdout",
     "output_type": "stream",
     "text": [
      "train shape: (1438177, 18)\n",
      "test shape: (625134, 18)\n"
     ]
    }
   ],
   "source": [
    "DO_NOT_USE_FOR_TRAINING = ['pickup_datetime', 'dropoff_datetime','pickup_longitude', 'pickup_latitude', 'dropoff_longitude',\n",
    "       'dropoff_latitude', 'trip_duration', 'date',\n",
    "       'month', 'weekday', 'hour', 'minute', 'second', 'passenger_count',\n",
    "       'distance', 'best_travel_time', 'left',\n",
    "       'right', 'merge', 'on ramp', 'off ramp', 'fork', 'end of road',\n",
    "       'continue', 'roundabout', 'rotary', 'roundabout turn', \n",
    "       'average temperature','departure', 'HDD', 'CDD', 'snow fall']\n",
    "train,y,test,feature_names,train_df=setup_df(nyc_taxi_train_df,nyc_taxi_test_df,DO_NOT_USE_FOR_TRAINING)"
   ]
  },
  {
   "cell_type": "code",
   "execution_count": 19,
   "metadata": {
    "id": "V1dspu_A9gsi",
    "outputId": "33af8196-bc7e-45df-ffc0-26e462a491f2"
   },
   "outputs": [
    {
     "name": "stdout",
     "output_type": "stream",
     "text": [
      "xgb cv:\n",
      "     train-rmsle-mean  train-rmsle-std  test-rmsle-mean  test-rmsle-std\n",
      "0            1.268669         0.000020         1.268674        0.000093\n",
      "1            1.040874         0.000015         1.040881        0.000098\n",
      "2            0.872776         0.000014         0.872785        0.000096\n",
      "3            0.742546         0.000029         0.742562        0.000086\n",
      "4            0.638392         0.000030         0.638408        0.000106\n",
      "..                ...              ...              ...             ...\n",
      "495          0.039756         0.000074         0.047087        0.000102\n",
      "496          0.039750         0.000075         0.047088        0.000103\n",
      "497          0.039742         0.000071         0.047089        0.000103\n",
      "498          0.039737         0.000071         0.047090        0.000104\n",
      "499          0.039733         0.000070         0.047090        0.000104\n",
      "\n",
      "[500 rows x 4 columns]\n",
      "[0]\ttrain-rmsle:1.26866\tvalid-rmsle:1.26856\n",
      "[20]\ttrain-rmsle:0.10297\tvalid-rmsle:0.10335\n",
      "[40]\ttrain-rmsle:0.04772\tvalid-rmsle:0.04950\n",
      "[60]\ttrain-rmsle:0.04534\tvalid-rmsle:0.04778\n",
      "[80]\ttrain-rmsle:0.04444\tvalid-rmsle:0.04737\n",
      "[100]\ttrain-rmsle:0.04386\tvalid-rmsle:0.04712\n",
      "[120]\ttrain-rmsle:0.04344\tvalid-rmsle:0.04700\n",
      "[140]\ttrain-rmsle:0.04316\tvalid-rmsle:0.04693\n",
      "[160]\ttrain-rmsle:0.04295\tvalid-rmsle:0.04689\n",
      "[180]\ttrain-rmsle:0.04279\tvalid-rmsle:0.04688\n",
      "[200]\ttrain-rmsle:0.04261\tvalid-rmsle:0.04685\n",
      "[220]\ttrain-rmsle:0.04237\tvalid-rmsle:0.04678\n",
      "[240]\ttrain-rmsle:0.04221\tvalid-rmsle:0.04675\n",
      "[260]\ttrain-rmsle:0.04202\tvalid-rmsle:0.04672\n",
      "[280]\ttrain-rmsle:0.04189\tvalid-rmsle:0.04672\n",
      "[300]\ttrain-rmsle:0.04169\tvalid-rmsle:0.04668\n",
      "[320]\ttrain-rmsle:0.04156\tvalid-rmsle:0.04667\n",
      "[340]\ttrain-rmsle:0.04145\tvalid-rmsle:0.04667\n",
      "[360]\ttrain-rmsle:0.04123\tvalid-rmsle:0.04662\n",
      "[380]\ttrain-rmsle:0.04108\tvalid-rmsle:0.04661\n",
      "[400]\ttrain-rmsle:0.04096\tvalid-rmsle:0.04661\n",
      "[420]\ttrain-rmsle:0.04083\tvalid-rmsle:0.04661\n",
      "[440]\ttrain-rmsle:0.04069\tvalid-rmsle:0.04660\n",
      "[460]\ttrain-rmsle:0.04057\tvalid-rmsle:0.04660\n",
      "[480]\ttrain-rmsle:0.04045\tvalid-rmsle:0.04661\n",
      "[500]\ttrain-rmsle:0.04034\tvalid-rmsle:0.04661\n",
      "[503]\ttrain-rmsle:0.04033\tvalid-rmsle:0.04660\n"
     ]
    }
   ],
   "source": [
    "# Tune these params, see https://www.analyticsvidhya.com/blog/2016/03/complete-guide-parameter-tuning-xgboost-with-codes-python/\n",
    "xgb_pars = {'min_child_weight': 100, 'eta': 0.1, 'colsample_bytree': 0.7, 'max_depth': 15,\n",
    "            'subsample': 0.8, 'lambda': 1., 'booster' : 'gbtree',\n",
    "            'eval_metric': 'rmsle', 'objective': 'reg:squarederror'}#, 'num_feature':10}\n",
    "model_xgb,dtest=gen_xgb_model(train,y,test,feature_names,xgb_pars,0.2)"
   ]
  },
  {
   "cell_type": "code",
   "execution_count": 20,
   "metadata": {
    "id": "6BHS2v_V9gsi",
    "outputId": "80c27b2f-783a-42de-affb-3a14d8ba74aa"
   },
   "outputs": [
    {
     "name": "stdout",
     "output_type": "stream",
     "text": [
      "XGB Modeling RMSLE 0.04660\n"
     ]
    },
    {
     "data": {
      "image/png": "[encoded data removed]",
      "text/plain": [
       "<Figure size 864x1296 with 1 Axes>"
      ]
     },
     "metadata": {
      "needs_background": "light"
     },
     "output_type": "display_data"
    },
    {
     "data": {
      "image/png": "[encoded data removed]",
      "text/plain": [
       "<Figure size 720x720 with 2 Axes>"
      ]
     },
     "metadata": {
      "needs_background": "light"
     },
     "output_type": "display_data"
    }
   ],
   "source": [
    "print_xgb_metric(model_xgb)\n",
    "correlation_heatmap(train_df)"
   ]
  },
  {
   "cell_type": "code",
   "execution_count": 21,
   "metadata": {
    "id": "fRPh0PMy9gsi"
   },
   "outputs": [
    {
     "name": "stderr",
     "output_type": "stream",
     "text": [
      "dot: graph is too large for cairo-renderer bitmaps. Scaling by 0.778018 to fit\n"
     ]
    }
   ],
   "source": [
    "plot_tree(model_xgb, './plot/xgboost_test_tree.pdf')\n",
    "plot_tree(model_xgb, './plot/xgboost_test_tree.png')\n",
    "plot_tree(model_xgb, './plot/xgboost_test_tree_LR.pdf', 'LR')\n",
    "plot_tree(model_xgb, './plot/xgboost_test_tree_LR.png', 'LR')"
   ]
  },
  {
   "cell_type": "code",
   "execution_count": 22,
   "metadata": {
    "id": "O6fz8ZS49gsi",
    "outputId": "09552fe0-b62d-4179-84c8-17b5558ef2ed"
   },
   "outputs": [
    {
     "name": "stdout",
     "output_type": "stream",
     "text": [
      "total 8676\n",
      "-rw-rw-r-- 1 ubuntu ubuntu  105614 Jan 12 23:53 xgboost_test_tree.pdf\n",
      "-rw-rw-r-- 1 ubuntu ubuntu 2427048 Jan 12 23:53 xgboost_test_tree.png\n",
      "-rw-rw-r-- 1 ubuntu ubuntu  106564 Jan 12 23:53 xgboost_test_tree_LR.pdf\n",
      "-rw-rw-r-- 1 ubuntu ubuntu 6237047 Jan 12 23:53 xgboost_test_tree_LR.png\n"
     ]
    }
   ],
   "source": [
    "!ls -l './plot'"
   ]
  },
  {
   "cell_type": "code",
   "execution_count": 25,
   "metadata": {
    "id": "SOi48il59gsi",
    "outputId": "4c779ece-e94e-498a-e4a9-3b9a66ea3b0e"
   },
   "outputs": [
    {
     "name": "stdout",
     "output_type": "stream",
     "text": [
      "Test shape OK.\n"
     ]
    },
    {
     "data": {
      "text/plain": [
       "array([ 686.6313,  675.3188,  317.2502, ..., 1221.8033, 1466.1681,\n",
       "       1228.759 ], dtype=float32)"
      ]
     },
     "execution_count": 25,
     "metadata": {},
     "output_type": "execute_result"
    }
   ],
   "source": [
    "pred_xgb = model_xgb.predict(dtest)\n",
    "pred_xgb = np.exp(pred_xgb)\n",
    "print('Test shape OK.') if nyc_taxi_test_df.shape[0] == pred_xgb.shape[0] else print('Oops')\n",
    "pred_xgb"
   ]
  },
  {
   "cell_type": "code",
   "execution_count": 26,
   "metadata": {
    "id": "qlewV6Le9gsi"
   },
   "outputs": [],
   "source": [
    "nyc_taxi_test_df.reset_index(inplace=True)"
   ]
  },
  {
   "cell_type": "code",
   "execution_count": 27,
   "metadata": {
    "id": "tXIJM8g99gsj"
   },
   "outputs": [],
   "source": [
    "nyc_taxi_test_df['trip_duration'] = pred_xgb\n",
    "submission_xgb = nyc_taxi_test_df[['id', 'trip_duration']]\n",
    "submission_xgb.to_csv('./output/submission-xgb.csv',index=False)"
   ]
  },
  {
   "cell_type": "code",
   "execution_count": 29,
   "metadata": {
    "id": "ZXgAjPxC9gsj"
   },
   "outputs": [
    {
     "name": "stdout",
     "output_type": "stream",
     "text": [
      "100%|██████████████████████████████████████| 11.7M/11.7M [00:00<00:00, 15.6MB/s]\n",
      "Successfully submitted to New York City Taxi Trip Duration"
     ]
    }
   ],
   "source": [
    "!kaggle competitions submit -c nyc-taxi-trip-duration -f ./output/submission-xgb.csv -m \"submission_xgb\""
   ]
  },
  {
   "cell_type": "code",
   "execution_count": 30,
   "metadata": {
    "id": "vL9O1M7j9gsk",
    "outputId": "52b43715-c966-4bca-f1e2-e7e513e8b410"
   },
   "outputs": [
    {
     "name": "stdout",
     "output_type": "stream",
     "text": [
      "Notebook Total time: 27761.9773 seconds\n"
     ]
    }
   ],
   "source": [
    "end = perf_counter()\n",
    "print(f'Notebook Total time: {end - start:0.4f} seconds')"
   ]
  }
 ],
 "metadata": {
  "accelerator": "GPU",
  "colab": {
   "collapsed_sections": [
    "1UcV3cCU9gsg"
   ],
   "name": "nyc-taxi-trip-duration-prediction_xgboost.ipynb",
   "provenance": [],
   "toc_visible": true
  },
  "kernelspec": {
   "display_name": "Python 3",
   "language": "python",
   "name": "python3"
  },
  "language_info": {
   "codemirror_mode": {
    "name": "ipython",
    "version": 3
   },
   "file_extension": ".py",
   "mimetype": "text/x-python",
   "name": "python",
   "nbconvert_exporter": "python",
   "pygments_lexer": "ipython3",
   "version": "3.8.3"
  }
 },
 "nbformat": 4,
 "nbformat_minor": 4
}
